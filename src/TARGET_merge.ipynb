{
 "cells": [
  {
   "cell_type": "code",
   "execution_count": 1,
   "id": "thick-wireless",
   "metadata": {},
   "outputs": [],
   "source": [
    "import pandas as pd\n",
    "import numpy as np\n",
    "import os"
   ]
  },
  {
   "cell_type": "code",
   "execution_count": 2,
   "id": "incredible-volunteer",
   "metadata": {},
   "outputs": [],
   "source": [
    "rna_path = r'/Users/wangconghao/Documents/Computational Biology/Network_fusion/FYP_WULUE-master/TARGET_RNAseq/HTSeq_counts/'\n",
    "dna_path = r'/Users/wangconghao/Documents/Computational Biology/Network_fusion/FYP_WULUE-master/TARGET_DNAMethylation/'"
   ]
  },
  {
   "cell_type": "code",
   "execution_count": 3,
   "id": "defined-gentleman",
   "metadata": {},
   "outputs": [
    {
     "data": {
      "text/plain": [
       "(155, 1)"
      ]
     },
     "execution_count": 3,
     "metadata": {},
     "output_type": "execute_result"
    }
   ],
   "source": [
    "rna_clinical = pd.read_csv(rna_path+'clinical.tsv', sep='\\t', index_col='case_submitter_id', usecols=['case_submitter_id', 'vital_status'])\n",
    "# clinical = pd.read_csv(path+'clinical.tsv', sep='\\t', usecols=['case_id', 'vital_status'])\n",
    "rna_clinical.shape"
   ]
  },
  {
   "cell_type": "code",
   "execution_count": 4,
   "id": "tough-jonathan",
   "metadata": {},
   "outputs": [
    {
     "name": "stderr",
     "output_type": "stream",
     "text": [
      "/Users/wangconghao/anaconda3/lib/python3.7/site-packages/openpyxl/worksheet/header_footer.py:48: UserWarning: Cannot parse header or footer so it will be ignored\n",
      "  warn(\"\"\"Cannot parse header or footer so it will be ignored\"\"\")\n"
     ]
    },
    {
     "data": {
      "text/plain": [
       "(620, 1)"
      ]
     },
     "execution_count": 4,
     "metadata": {},
     "output_type": "execute_result"
    }
   ],
   "source": [
    "dna_clinical = pd.read_excel(dna_path+'TARGET_NBL_ClinicalData_Discovery_20170525.xlsx', sheet_name=0, index_col='TARGET USI', usecols=['TARGET USI', 'Vital Status'])\n",
    "dna_clinical.shape"
   ]
  },
  {
   "cell_type": "code",
   "execution_count": 5,
   "id": "partial-danish",
   "metadata": {},
   "outputs": [],
   "source": [
    "rna_sample_sheet_ori = pd.read_csv(rna_path+'sample_sheet.tsv', sep='\\t', usecols=['File ID', 'File Name', 'Case ID'])\n",
    "dna_sample_sheet_ori = pd.read_table(dna_path+'TARGET_NBL_MethylationArray_20160812.sdrf.txt', sep='\\t', usecols=['Source Name', 'Derived Array Data File', 'Sample Name'])"
   ]
  },
  {
   "cell_type": "code",
   "execution_count": 6,
   "id": "amateur-belize",
   "metadata": {},
   "outputs": [
    {
     "data": {
      "text/html": [
       "<div>\n",
       "<style scoped>\n",
       "    .dataframe tbody tr th:only-of-type {\n",
       "        vertical-align: middle;\n",
       "    }\n",
       "\n",
       "    .dataframe tbody tr th {\n",
       "        vertical-align: top;\n",
       "    }\n",
       "\n",
       "    .dataframe thead th {\n",
       "        text-align: right;\n",
       "    }\n",
       "</style>\n",
       "<table border=\"1\" class=\"dataframe\">\n",
       "  <thead>\n",
       "    <tr style=\"text-align: right;\">\n",
       "      <th></th>\n",
       "      <th>File ID</th>\n",
       "      <th>File Name</th>\n",
       "      <th>Case ID</th>\n",
       "    </tr>\n",
       "  </thead>\n",
       "  <tbody>\n",
       "    <tr>\n",
       "      <th>0</th>\n",
       "      <td>b19431df-0e34-4771-adda-6dbffcb60503</td>\n",
       "      <td>a46c4421-42d7-49b3-b109-f8bbe1e2bc83.htseq_cou...</td>\n",
       "      <td>TARGET-30-PAPUWY</td>\n",
       "    </tr>\n",
       "    <tr>\n",
       "      <th>1</th>\n",
       "      <td>b308a9bf-c4ab-4cd3-8eb3-8421ef417a17</td>\n",
       "      <td>49d2489c-6489-43d3-af15-8a9838c28439.htseq_cou...</td>\n",
       "      <td>TARGET-30-PATINJ</td>\n",
       "    </tr>\n",
       "    <tr>\n",
       "      <th>2</th>\n",
       "      <td>bff2c70f-296b-4472-8fa2-c24229ba407a</td>\n",
       "      <td>ab9d872b-8e15-4be1-8c9c-d32442aebe64.htseq_cou...</td>\n",
       "      <td>TARGET-30-PASXHE</td>\n",
       "    </tr>\n",
       "    <tr>\n",
       "      <th>3</th>\n",
       "      <td>672df550-39ca-46e0-9e0e-cf747b4445f7</td>\n",
       "      <td>6706a39e-46ed-4079-8eb0-f3bb29e868af.htseq_cou...</td>\n",
       "      <td>TARGET-30-PATAYJ</td>\n",
       "    </tr>\n",
       "    <tr>\n",
       "      <th>4</th>\n",
       "      <td>2755f8b5-5fc2-47b7-ac95-e53677bb6c16</td>\n",
       "      <td>9776c00a-b6f0-461f-9764-3d8aaccbccc6.htseq_cou...</td>\n",
       "      <td>TARGET-30-PANNMS</td>\n",
       "    </tr>\n",
       "  </tbody>\n",
       "</table>\n",
       "</div>"
      ],
      "text/plain": [
       "                                File ID  \\\n",
       "0  b19431df-0e34-4771-adda-6dbffcb60503   \n",
       "1  b308a9bf-c4ab-4cd3-8eb3-8421ef417a17   \n",
       "2  bff2c70f-296b-4472-8fa2-c24229ba407a   \n",
       "3  672df550-39ca-46e0-9e0e-cf747b4445f7   \n",
       "4  2755f8b5-5fc2-47b7-ac95-e53677bb6c16   \n",
       "\n",
       "                                           File Name           Case ID  \n",
       "0  a46c4421-42d7-49b3-b109-f8bbe1e2bc83.htseq_cou...  TARGET-30-PAPUWY  \n",
       "1  49d2489c-6489-43d3-af15-8a9838c28439.htseq_cou...  TARGET-30-PATINJ  \n",
       "2  ab9d872b-8e15-4be1-8c9c-d32442aebe64.htseq_cou...  TARGET-30-PASXHE  \n",
       "3  6706a39e-46ed-4079-8eb0-f3bb29e868af.htseq_cou...  TARGET-30-PATAYJ  \n",
       "4  9776c00a-b6f0-461f-9764-3d8aaccbccc6.htseq_cou...  TARGET-30-PANNMS  "
      ]
     },
     "execution_count": 6,
     "metadata": {},
     "output_type": "execute_result"
    }
   ],
   "source": [
    "rna_sample_sheet_ori.head()"
   ]
  },
  {
   "cell_type": "code",
   "execution_count": 7,
   "id": "terminal-beverage",
   "metadata": {},
   "outputs": [
    {
     "data": {
      "text/html": [
       "<div>\n",
       "<style scoped>\n",
       "    .dataframe tbody tr th:only-of-type {\n",
       "        vertical-align: middle;\n",
       "    }\n",
       "\n",
       "    .dataframe tbody tr th {\n",
       "        vertical-align: top;\n",
       "    }\n",
       "\n",
       "    .dataframe thead th {\n",
       "        text-align: right;\n",
       "    }\n",
       "</style>\n",
       "<table border=\"1\" class=\"dataframe\">\n",
       "  <thead>\n",
       "    <tr style=\"text-align: right;\">\n",
       "      <th></th>\n",
       "      <th>Source Name</th>\n",
       "      <th>Sample Name</th>\n",
       "      <th>Derived Array Data File</th>\n",
       "    </tr>\n",
       "  </thead>\n",
       "  <tbody>\n",
       "    <tr>\n",
       "      <th>0</th>\n",
       "      <td>TARGET-00-NAAENF</td>\n",
       "      <td>TARGET-00-NAAENF-11A</td>\n",
       "      <td>usc.edu_NBL.HumanMethylation450.Level-3.TARGET...</td>\n",
       "    </tr>\n",
       "    <tr>\n",
       "      <th>1</th>\n",
       "      <td>TARGET-00-NAAENF</td>\n",
       "      <td>TARGET-00-NAAENF-11A</td>\n",
       "      <td>usc.edu_NBL.HumanMethylation450.Level-3.TARGET...</td>\n",
       "    </tr>\n",
       "    <tr>\n",
       "      <th>2</th>\n",
       "      <td>TARGET-00-NAAENG</td>\n",
       "      <td>TARGET-00-NAAENG-11A</td>\n",
       "      <td>usc.edu_NBL.HumanMethylation450.Level-3.TARGET...</td>\n",
       "    </tr>\n",
       "    <tr>\n",
       "      <th>3</th>\n",
       "      <td>TARGET-00-NAAENG</td>\n",
       "      <td>TARGET-00-NAAENG-11A</td>\n",
       "      <td>usc.edu_NBL.HumanMethylation450.Level-3.TARGET...</td>\n",
       "    </tr>\n",
       "    <tr>\n",
       "      <th>4</th>\n",
       "      <td>TARGET-00-NAAENH</td>\n",
       "      <td>TARGET-00-NAAENH-11A</td>\n",
       "      <td>usc.edu_NBL.HumanMethylation450.Level-3.TARGET...</td>\n",
       "    </tr>\n",
       "  </tbody>\n",
       "</table>\n",
       "</div>"
      ],
      "text/plain": [
       "        Source Name           Sample Name  \\\n",
       "0  TARGET-00-NAAENF  TARGET-00-NAAENF-11A   \n",
       "1  TARGET-00-NAAENF  TARGET-00-NAAENF-11A   \n",
       "2  TARGET-00-NAAENG  TARGET-00-NAAENG-11A   \n",
       "3  TARGET-00-NAAENG  TARGET-00-NAAENG-11A   \n",
       "4  TARGET-00-NAAENH  TARGET-00-NAAENH-11A   \n",
       "\n",
       "                             Derived Array Data File  \n",
       "0  usc.edu_NBL.HumanMethylation450.Level-3.TARGET...  \n",
       "1  usc.edu_NBL.HumanMethylation450.Level-3.TARGET...  \n",
       "2  usc.edu_NBL.HumanMethylation450.Level-3.TARGET...  \n",
       "3  usc.edu_NBL.HumanMethylation450.Level-3.TARGET...  \n",
       "4  usc.edu_NBL.HumanMethylation450.Level-3.TARGET...  "
      ]
     },
     "execution_count": 7,
     "metadata": {},
     "output_type": "execute_result"
    }
   ],
   "source": [
    "dna_sample_sheet_ori.head()"
   ]
  },
  {
   "cell_type": "code",
   "execution_count": 8,
   "id": "moderate-thomson",
   "metadata": {},
   "outputs": [
    {
     "data": {
      "text/html": [
       "<div>\n",
       "<style scoped>\n",
       "    .dataframe tbody tr th:only-of-type {\n",
       "        vertical-align: middle;\n",
       "    }\n",
       "\n",
       "    .dataframe tbody tr th {\n",
       "        vertical-align: top;\n",
       "    }\n",
       "\n",
       "    .dataframe thead th {\n",
       "        text-align: right;\n",
       "    }\n",
       "</style>\n",
       "<table border=\"1\" class=\"dataframe\">\n",
       "  <thead>\n",
       "    <tr style=\"text-align: right;\">\n",
       "      <th></th>\n",
       "      <th>Source Name</th>\n",
       "      <th>Sample Name</th>\n",
       "    </tr>\n",
       "    <tr>\n",
       "      <th>Derived Array Data File</th>\n",
       "      <th></th>\n",
       "      <th></th>\n",
       "    </tr>\n",
       "  </thead>\n",
       "  <tbody>\n",
       "    <tr>\n",
       "      <th>usc.edu_NBL.HumanMethylation450.Level-3.TARGET-00-NAAENF-11A-01D.txt</th>\n",
       "      <td>TARGET-00-NAAENF</td>\n",
       "      <td>TARGET-00-NAAENF-11A</td>\n",
       "    </tr>\n",
       "    <tr>\n",
       "      <th>usc.edu_NBL.HumanMethylation450.Level-3.TARGET-00-NAAENF-11A-01D.txt</th>\n",
       "      <td>TARGET-00-NAAENF</td>\n",
       "      <td>TARGET-00-NAAENF-11A</td>\n",
       "    </tr>\n",
       "    <tr>\n",
       "      <th>usc.edu_NBL.HumanMethylation450.Level-3.TARGET-00-NAAENG-11A-01D.txt</th>\n",
       "      <td>TARGET-00-NAAENG</td>\n",
       "      <td>TARGET-00-NAAENG-11A</td>\n",
       "    </tr>\n",
       "    <tr>\n",
       "      <th>usc.edu_NBL.HumanMethylation450.Level-3.TARGET-00-NAAENG-11A-01D.txt</th>\n",
       "      <td>TARGET-00-NAAENG</td>\n",
       "      <td>TARGET-00-NAAENG-11A</td>\n",
       "    </tr>\n",
       "    <tr>\n",
       "      <th>usc.edu_NBL.HumanMethylation450.Level-3.TARGET-00-NAAENH-11A-01D.txt</th>\n",
       "      <td>TARGET-00-NAAENH</td>\n",
       "      <td>TARGET-00-NAAENH-11A</td>\n",
       "    </tr>\n",
       "  </tbody>\n",
       "</table>\n",
       "</div>"
      ],
      "text/plain": [
       "                                                         Source Name  \\\n",
       "Derived Array Data File                                                \n",
       "usc.edu_NBL.HumanMethylation450.Level-3.TARGET-...  TARGET-00-NAAENF   \n",
       "usc.edu_NBL.HumanMethylation450.Level-3.TARGET-...  TARGET-00-NAAENF   \n",
       "usc.edu_NBL.HumanMethylation450.Level-3.TARGET-...  TARGET-00-NAAENG   \n",
       "usc.edu_NBL.HumanMethylation450.Level-3.TARGET-...  TARGET-00-NAAENG   \n",
       "usc.edu_NBL.HumanMethylation450.Level-3.TARGET-...  TARGET-00-NAAENH   \n",
       "\n",
       "                                                             Sample Name  \n",
       "Derived Array Data File                                                   \n",
       "usc.edu_NBL.HumanMethylation450.Level-3.TARGET-...  TARGET-00-NAAENF-11A  \n",
       "usc.edu_NBL.HumanMethylation450.Level-3.TARGET-...  TARGET-00-NAAENF-11A  \n",
       "usc.edu_NBL.HumanMethylation450.Level-3.TARGET-...  TARGET-00-NAAENG-11A  \n",
       "usc.edu_NBL.HumanMethylation450.Level-3.TARGET-...  TARGET-00-NAAENG-11A  \n",
       "usc.edu_NBL.HumanMethylation450.Level-3.TARGET-...  TARGET-00-NAAENH-11A  "
      ]
     },
     "execution_count": 8,
     "metadata": {},
     "output_type": "execute_result"
    }
   ],
   "source": [
    "dna_sample_sheet_ori.set_index('Derived Array Data File', inplace=True)\n",
    "dna_sample_sheet_ori.head()"
   ]
  },
  {
   "cell_type": "code",
   "execution_count": 9,
   "id": "competitive-identification",
   "metadata": {},
   "outputs": [
    {
     "data": {
      "text/plain": [
       "(472, 2)"
      ]
     },
     "execution_count": 9,
     "metadata": {},
     "output_type": "execute_result"
    }
   ],
   "source": [
    "dna_sample_sheet_ori.shape"
   ]
  },
  {
   "cell_type": "code",
   "execution_count": 10,
   "id": "gentle-image",
   "metadata": {},
   "outputs": [
    {
     "data": {
      "text/html": [
       "<div>\n",
       "<style scoped>\n",
       "    .dataframe tbody tr th:only-of-type {\n",
       "        vertical-align: middle;\n",
       "    }\n",
       "\n",
       "    .dataframe tbody tr th {\n",
       "        vertical-align: top;\n",
       "    }\n",
       "\n",
       "    .dataframe thead th {\n",
       "        text-align: right;\n",
       "    }\n",
       "</style>\n",
       "<table border=\"1\" class=\"dataframe\">\n",
       "  <thead>\n",
       "    <tr style=\"text-align: right;\">\n",
       "      <th></th>\n",
       "      <th>0</th>\n",
       "    </tr>\n",
       "    <tr>\n",
       "      <th>1</th>\n",
       "      <th></th>\n",
       "    </tr>\n",
       "  </thead>\n",
       "  <tbody>\n",
       "    <tr>\n",
       "      <th>usc.edu_NBL.HumanMethylation450.Level-3.TARGET-00-NAAENF-11A-01D.txt</th>\n",
       "      <td>7b3dea33081226dfc695db2aef880f1822b638bb583b90...</td>\n",
       "    </tr>\n",
       "    <tr>\n",
       "      <th>usc.edu_NBL.HumanMethylation450.Level-3.TARGET-00-NAAENG-11A-01D.txt</th>\n",
       "      <td>1e5416d1d835bd8a6fc55e3d11fc10a229f172702b443d...</td>\n",
       "    </tr>\n",
       "    <tr>\n",
       "      <th>usc.edu_NBL.HumanMethylation450.Level-3.TARGET-00-NAAENH-11A-01D.txt</th>\n",
       "      <td>0cf98cb023401d86afa2e6122e77562f4102e444ada222...</td>\n",
       "    </tr>\n",
       "    <tr>\n",
       "      <th>usc.edu_NBL.HumanMethylation450.Level-3.TARGET-00-NAAENI-11A-01D.txt</th>\n",
       "      <td>2acca37a554dcd8b494abc2645d2db383fd63e1048e5b4...</td>\n",
       "    </tr>\n",
       "    <tr>\n",
       "      <th>usc.edu_NBL.HumanMethylation450.Level-3.TARGET-00-NAAENJ-11A-01D.txt</th>\n",
       "      <td>5a8bbcddb6ef0678bbe7429dd235cc97f21badfe5e1a09...</td>\n",
       "    </tr>\n",
       "  </tbody>\n",
       "</table>\n",
       "</div>"
      ],
      "text/plain": [
       "                                                                                                    0\n",
       "1                                                                                                    \n",
       "usc.edu_NBL.HumanMethylation450.Level-3.TARGET-...  7b3dea33081226dfc695db2aef880f1822b638bb583b90...\n",
       "usc.edu_NBL.HumanMethylation450.Level-3.TARGET-...  1e5416d1d835bd8a6fc55e3d11fc10a229f172702b443d...\n",
       "usc.edu_NBL.HumanMethylation450.Level-3.TARGET-...  0cf98cb023401d86afa2e6122e77562f4102e444ada222...\n",
       "usc.edu_NBL.HumanMethylation450.Level-3.TARGET-...  2acca37a554dcd8b494abc2645d2db383fd63e1048e5b4...\n",
       "usc.edu_NBL.HumanMethylation450.Level-3.TARGET-...  5a8bbcddb6ef0678bbe7429dd235cc97f21badfe5e1a09..."
      ]
     },
     "execution_count": 10,
     "metadata": {},
     "output_type": "execute_result"
    }
   ],
   "source": [
    "dna_manifest = pd.read_excel(dna_path+'MANIFEST.xlsx', header=None, index_col=1)\n",
    "dna_manifest.head()"
   ]
  },
  {
   "cell_type": "code",
   "execution_count": 11,
   "id": "physical-garlic",
   "metadata": {},
   "outputs": [],
   "source": [
    "dna_samples = dna_sample_sheet_ori.merge(dna_manifest, how='inner', left_index=True, right_index=True)"
   ]
  },
  {
   "cell_type": "code",
   "execution_count": 12,
   "id": "noticed-champion",
   "metadata": {},
   "outputs": [
    {
     "name": "stdout",
     "output_type": "stream",
     "text": [
      "(470, 3)\n"
     ]
    }
   ],
   "source": [
    "\n",
    "print(dna_samples.shape)"
   ]
  },
  {
   "cell_type": "code",
   "execution_count": 13,
   "id": "lightweight-replication",
   "metadata": {},
   "outputs": [
    {
     "data": {
      "text/plain": [
       "(235, 3)"
      ]
     },
     "execution_count": 13,
     "metadata": {},
     "output_type": "execute_result"
    }
   ],
   "source": [
    "dna_samples.drop_duplicates(inplace=True)\n",
    "dna_samples.shape"
   ]
  },
  {
   "cell_type": "code",
   "execution_count": 14,
   "id": "jewish-daisy",
   "metadata": {},
   "outputs": [
    {
     "data": {
      "text/html": [
       "<div>\n",
       "<style scoped>\n",
       "    .dataframe tbody tr th:only-of-type {\n",
       "        vertical-align: middle;\n",
       "    }\n",
       "\n",
       "    .dataframe tbody tr th {\n",
       "        vertical-align: top;\n",
       "    }\n",
       "\n",
       "    .dataframe thead th {\n",
       "        text-align: right;\n",
       "    }\n",
       "</style>\n",
       "<table border=\"1\" class=\"dataframe\">\n",
       "  <thead>\n",
       "    <tr style=\"text-align: right;\">\n",
       "      <th></th>\n",
       "      <th>Source Name</th>\n",
       "      <th>Sample Name</th>\n",
       "      <th>0</th>\n",
       "    </tr>\n",
       "  </thead>\n",
       "  <tbody>\n",
       "    <tr>\n",
       "      <th>usc.edu_NBL.HumanMethylation450.Level-3.TARGET-00-NAAENF-11A-01D.txt</th>\n",
       "      <td>TARGET-00-NAAENF</td>\n",
       "      <td>TARGET-00-NAAENF-11A</td>\n",
       "      <td>7b3dea33081226dfc695db2aef880f1822b638bb583b90...</td>\n",
       "    </tr>\n",
       "    <tr>\n",
       "      <th>usc.edu_NBL.HumanMethylation450.Level-3.TARGET-00-NAAENG-11A-01D.txt</th>\n",
       "      <td>TARGET-00-NAAENG</td>\n",
       "      <td>TARGET-00-NAAENG-11A</td>\n",
       "      <td>1e5416d1d835bd8a6fc55e3d11fc10a229f172702b443d...</td>\n",
       "    </tr>\n",
       "    <tr>\n",
       "      <th>usc.edu_NBL.HumanMethylation450.Level-3.TARGET-00-NAAENH-11A-01D.txt</th>\n",
       "      <td>TARGET-00-NAAENH</td>\n",
       "      <td>TARGET-00-NAAENH-11A</td>\n",
       "      <td>0cf98cb023401d86afa2e6122e77562f4102e444ada222...</td>\n",
       "    </tr>\n",
       "    <tr>\n",
       "      <th>usc.edu_NBL.HumanMethylation450.Level-3.TARGET-00-NAAENI-11A-01D.txt</th>\n",
       "      <td>TARGET-00-NAAENI</td>\n",
       "      <td>TARGET-00-NAAENI-11A</td>\n",
       "      <td>2acca37a554dcd8b494abc2645d2db383fd63e1048e5b4...</td>\n",
       "    </tr>\n",
       "    <tr>\n",
       "      <th>usc.edu_NBL.HumanMethylation450.Level-3.TARGET-00-NAAENJ-11A-01D.txt</th>\n",
       "      <td>TARGET-00-NAAENJ</td>\n",
       "      <td>TARGET-00-NAAENJ-11A</td>\n",
       "      <td>5a8bbcddb6ef0678bbe7429dd235cc97f21badfe5e1a09...</td>\n",
       "    </tr>\n",
       "  </tbody>\n",
       "</table>\n",
       "</div>"
      ],
      "text/plain": [
       "                                                         Source Name  \\\n",
       "usc.edu_NBL.HumanMethylation450.Level-3.TARGET-...  TARGET-00-NAAENF   \n",
       "usc.edu_NBL.HumanMethylation450.Level-3.TARGET-...  TARGET-00-NAAENG   \n",
       "usc.edu_NBL.HumanMethylation450.Level-3.TARGET-...  TARGET-00-NAAENH   \n",
       "usc.edu_NBL.HumanMethylation450.Level-3.TARGET-...  TARGET-00-NAAENI   \n",
       "usc.edu_NBL.HumanMethylation450.Level-3.TARGET-...  TARGET-00-NAAENJ   \n",
       "\n",
       "                                                             Sample Name  \\\n",
       "usc.edu_NBL.HumanMethylation450.Level-3.TARGET-...  TARGET-00-NAAENF-11A   \n",
       "usc.edu_NBL.HumanMethylation450.Level-3.TARGET-...  TARGET-00-NAAENG-11A   \n",
       "usc.edu_NBL.HumanMethylation450.Level-3.TARGET-...  TARGET-00-NAAENH-11A   \n",
       "usc.edu_NBL.HumanMethylation450.Level-3.TARGET-...  TARGET-00-NAAENI-11A   \n",
       "usc.edu_NBL.HumanMethylation450.Level-3.TARGET-...  TARGET-00-NAAENJ-11A   \n",
       "\n",
       "                                                                                                    0  \n",
       "usc.edu_NBL.HumanMethylation450.Level-3.TARGET-...  7b3dea33081226dfc695db2aef880f1822b638bb583b90...  \n",
       "usc.edu_NBL.HumanMethylation450.Level-3.TARGET-...  1e5416d1d835bd8a6fc55e3d11fc10a229f172702b443d...  \n",
       "usc.edu_NBL.HumanMethylation450.Level-3.TARGET-...  0cf98cb023401d86afa2e6122e77562f4102e444ada222...  \n",
       "usc.edu_NBL.HumanMethylation450.Level-3.TARGET-...  2acca37a554dcd8b494abc2645d2db383fd63e1048e5b4...  \n",
       "usc.edu_NBL.HumanMethylation450.Level-3.TARGET-...  5a8bbcddb6ef0678bbe7429dd235cc97f21badfe5e1a09...  "
      ]
     },
     "execution_count": 14,
     "metadata": {},
     "output_type": "execute_result"
    }
   ],
   "source": [
    "dna_samples.head()"
   ]
  },
  {
   "cell_type": "code",
   "execution_count": 15,
   "id": "female-theme",
   "metadata": {},
   "outputs": [
    {
     "data": {
      "text/html": [
       "<div>\n",
       "<style scoped>\n",
       "    .dataframe tbody tr th:only-of-type {\n",
       "        vertical-align: middle;\n",
       "    }\n",
       "\n",
       "    .dataframe tbody tr th {\n",
       "        vertical-align: top;\n",
       "    }\n",
       "\n",
       "    .dataframe thead th {\n",
       "        text-align: right;\n",
       "    }\n",
       "</style>\n",
       "<table border=\"1\" class=\"dataframe\">\n",
       "  <thead>\n",
       "    <tr style=\"text-align: right;\">\n",
       "      <th></th>\n",
       "      <th>Source Name</th>\n",
       "      <th>Sample Name</th>\n",
       "      <th>0</th>\n",
       "    </tr>\n",
       "    <tr>\n",
       "      <th>Derived Array Data File</th>\n",
       "      <th></th>\n",
       "      <th></th>\n",
       "      <th></th>\n",
       "    </tr>\n",
       "  </thead>\n",
       "  <tbody>\n",
       "    <tr>\n",
       "      <th>usc.edu_NBL.HumanMethylation450.Level-3.TARGET-00-NAAENF-11A-01D.txt</th>\n",
       "      <td>TARGET-00-NAAENF</td>\n",
       "      <td>TARGET-00-NAAENF-11A</td>\n",
       "      <td>7b3dea33081226dfc695db2aef880f1822b638bb583b90...</td>\n",
       "    </tr>\n",
       "    <tr>\n",
       "      <th>usc.edu_NBL.HumanMethylation450.Level-3.TARGET-00-NAAENG-11A-01D.txt</th>\n",
       "      <td>TARGET-00-NAAENG</td>\n",
       "      <td>TARGET-00-NAAENG-11A</td>\n",
       "      <td>1e5416d1d835bd8a6fc55e3d11fc10a229f172702b443d...</td>\n",
       "    </tr>\n",
       "    <tr>\n",
       "      <th>usc.edu_NBL.HumanMethylation450.Level-3.TARGET-00-NAAENH-11A-01D.txt</th>\n",
       "      <td>TARGET-00-NAAENH</td>\n",
       "      <td>TARGET-00-NAAENH-11A</td>\n",
       "      <td>0cf98cb023401d86afa2e6122e77562f4102e444ada222...</td>\n",
       "    </tr>\n",
       "    <tr>\n",
       "      <th>usc.edu_NBL.HumanMethylation450.Level-3.TARGET-00-NAAENI-11A-01D.txt</th>\n",
       "      <td>TARGET-00-NAAENI</td>\n",
       "      <td>TARGET-00-NAAENI-11A</td>\n",
       "      <td>2acca37a554dcd8b494abc2645d2db383fd63e1048e5b4...</td>\n",
       "    </tr>\n",
       "    <tr>\n",
       "      <th>usc.edu_NBL.HumanMethylation450.Level-3.TARGET-00-NAAENJ-11A-01D.txt</th>\n",
       "      <td>TARGET-00-NAAENJ</td>\n",
       "      <td>TARGET-00-NAAENJ-11A</td>\n",
       "      <td>5a8bbcddb6ef0678bbe7429dd235cc97f21badfe5e1a09...</td>\n",
       "    </tr>\n",
       "  </tbody>\n",
       "</table>\n",
       "</div>"
      ],
      "text/plain": [
       "                                                         Source Name  \\\n",
       "Derived Array Data File                                                \n",
       "usc.edu_NBL.HumanMethylation450.Level-3.TARGET-...  TARGET-00-NAAENF   \n",
       "usc.edu_NBL.HumanMethylation450.Level-3.TARGET-...  TARGET-00-NAAENG   \n",
       "usc.edu_NBL.HumanMethylation450.Level-3.TARGET-...  TARGET-00-NAAENH   \n",
       "usc.edu_NBL.HumanMethylation450.Level-3.TARGET-...  TARGET-00-NAAENI   \n",
       "usc.edu_NBL.HumanMethylation450.Level-3.TARGET-...  TARGET-00-NAAENJ   \n",
       "\n",
       "                                                             Sample Name  \\\n",
       "Derived Array Data File                                                    \n",
       "usc.edu_NBL.HumanMethylation450.Level-3.TARGET-...  TARGET-00-NAAENF-11A   \n",
       "usc.edu_NBL.HumanMethylation450.Level-3.TARGET-...  TARGET-00-NAAENG-11A   \n",
       "usc.edu_NBL.HumanMethylation450.Level-3.TARGET-...  TARGET-00-NAAENH-11A   \n",
       "usc.edu_NBL.HumanMethylation450.Level-3.TARGET-...  TARGET-00-NAAENI-11A   \n",
       "usc.edu_NBL.HumanMethylation450.Level-3.TARGET-...  TARGET-00-NAAENJ-11A   \n",
       "\n",
       "                                                                                                    0  \n",
       "Derived Array Data File                                                                                \n",
       "usc.edu_NBL.HumanMethylation450.Level-3.TARGET-...  7b3dea33081226dfc695db2aef880f1822b638bb583b90...  \n",
       "usc.edu_NBL.HumanMethylation450.Level-3.TARGET-...  1e5416d1d835bd8a6fc55e3d11fc10a229f172702b443d...  \n",
       "usc.edu_NBL.HumanMethylation450.Level-3.TARGET-...  0cf98cb023401d86afa2e6122e77562f4102e444ada222...  \n",
       "usc.edu_NBL.HumanMethylation450.Level-3.TARGET-...  2acca37a554dcd8b494abc2645d2db383fd63e1048e5b4...  \n",
       "usc.edu_NBL.HumanMethylation450.Level-3.TARGET-...  5a8bbcddb6ef0678bbe7429dd235cc97f21badfe5e1a09...  "
      ]
     },
     "execution_count": 15,
     "metadata": {},
     "output_type": "execute_result"
    }
   ],
   "source": [
    "dna_samples.index.rename('Derived Array Data File', inplace=True)\n",
    "dna_samples.head()"
   ]
  },
  {
   "cell_type": "code",
   "execution_count": 16,
   "id": "caring-classification",
   "metadata": {},
   "outputs": [
    {
     "data": {
      "text/html": [
       "<div>\n",
       "<style scoped>\n",
       "    .dataframe tbody tr th:only-of-type {\n",
       "        vertical-align: middle;\n",
       "    }\n",
       "\n",
       "    .dataframe tbody tr th {\n",
       "        vertical-align: top;\n",
       "    }\n",
       "\n",
       "    .dataframe thead th {\n",
       "        text-align: right;\n",
       "    }\n",
       "</style>\n",
       "<table border=\"1\" class=\"dataframe\">\n",
       "  <thead>\n",
       "    <tr style=\"text-align: right;\">\n",
       "      <th></th>\n",
       "      <th>Derived Array Data File</th>\n",
       "      <th>Sample Name</th>\n",
       "      <th>0</th>\n",
       "    </tr>\n",
       "    <tr>\n",
       "      <th>Source Name</th>\n",
       "      <th></th>\n",
       "      <th></th>\n",
       "      <th></th>\n",
       "    </tr>\n",
       "  </thead>\n",
       "  <tbody>\n",
       "    <tr>\n",
       "      <th>TARGET-00-NAAENF</th>\n",
       "      <td>usc.edu_NBL.HumanMethylation450.Level-3.TARGET...</td>\n",
       "      <td>TARGET-00-NAAENF-11A</td>\n",
       "      <td>7b3dea33081226dfc695db2aef880f1822b638bb583b90...</td>\n",
       "    </tr>\n",
       "    <tr>\n",
       "      <th>TARGET-00-NAAENG</th>\n",
       "      <td>usc.edu_NBL.HumanMethylation450.Level-3.TARGET...</td>\n",
       "      <td>TARGET-00-NAAENG-11A</td>\n",
       "      <td>1e5416d1d835bd8a6fc55e3d11fc10a229f172702b443d...</td>\n",
       "    </tr>\n",
       "    <tr>\n",
       "      <th>TARGET-00-NAAENH</th>\n",
       "      <td>usc.edu_NBL.HumanMethylation450.Level-3.TARGET...</td>\n",
       "      <td>TARGET-00-NAAENH-11A</td>\n",
       "      <td>0cf98cb023401d86afa2e6122e77562f4102e444ada222...</td>\n",
       "    </tr>\n",
       "    <tr>\n",
       "      <th>TARGET-00-NAAENI</th>\n",
       "      <td>usc.edu_NBL.HumanMethylation450.Level-3.TARGET...</td>\n",
       "      <td>TARGET-00-NAAENI-11A</td>\n",
       "      <td>2acca37a554dcd8b494abc2645d2db383fd63e1048e5b4...</td>\n",
       "    </tr>\n",
       "    <tr>\n",
       "      <th>TARGET-00-NAAENJ</th>\n",
       "      <td>usc.edu_NBL.HumanMethylation450.Level-3.TARGET...</td>\n",
       "      <td>TARGET-00-NAAENJ-11A</td>\n",
       "      <td>5a8bbcddb6ef0678bbe7429dd235cc97f21badfe5e1a09...</td>\n",
       "    </tr>\n",
       "  </tbody>\n",
       "</table>\n",
       "</div>"
      ],
      "text/plain": [
       "                                            Derived Array Data File  \\\n",
       "Source Name                                                           \n",
       "TARGET-00-NAAENF  usc.edu_NBL.HumanMethylation450.Level-3.TARGET...   \n",
       "TARGET-00-NAAENG  usc.edu_NBL.HumanMethylation450.Level-3.TARGET...   \n",
       "TARGET-00-NAAENH  usc.edu_NBL.HumanMethylation450.Level-3.TARGET...   \n",
       "TARGET-00-NAAENI  usc.edu_NBL.HumanMethylation450.Level-3.TARGET...   \n",
       "TARGET-00-NAAENJ  usc.edu_NBL.HumanMethylation450.Level-3.TARGET...   \n",
       "\n",
       "                           Sample Name  \\\n",
       "Source Name                              \n",
       "TARGET-00-NAAENF  TARGET-00-NAAENF-11A   \n",
       "TARGET-00-NAAENG  TARGET-00-NAAENG-11A   \n",
       "TARGET-00-NAAENH  TARGET-00-NAAENH-11A   \n",
       "TARGET-00-NAAENI  TARGET-00-NAAENI-11A   \n",
       "TARGET-00-NAAENJ  TARGET-00-NAAENJ-11A   \n",
       "\n",
       "                                                                  0  \n",
       "Source Name                                                          \n",
       "TARGET-00-NAAENF  7b3dea33081226dfc695db2aef880f1822b638bb583b90...  \n",
       "TARGET-00-NAAENG  1e5416d1d835bd8a6fc55e3d11fc10a229f172702b443d...  \n",
       "TARGET-00-NAAENH  0cf98cb023401d86afa2e6122e77562f4102e444ada222...  \n",
       "TARGET-00-NAAENI  2acca37a554dcd8b494abc2645d2db383fd63e1048e5b4...  \n",
       "TARGET-00-NAAENJ  5a8bbcddb6ef0678bbe7429dd235cc97f21badfe5e1a09...  "
      ]
     },
     "execution_count": 16,
     "metadata": {},
     "output_type": "execute_result"
    }
   ],
   "source": [
    "dna_sample_sheet = dna_samples.reset_index().set_index('Source Name')\n",
    "dna_sample_sheet.head()"
   ]
  },
  {
   "cell_type": "code",
   "execution_count": 17,
   "id": "biblical-coffee",
   "metadata": {},
   "outputs": [
    {
     "data": {
      "text/html": [
       "<div>\n",
       "<style scoped>\n",
       "    .dataframe tbody tr th:only-of-type {\n",
       "        vertical-align: middle;\n",
       "    }\n",
       "\n",
       "    .dataframe tbody tr th {\n",
       "        vertical-align: top;\n",
       "    }\n",
       "\n",
       "    .dataframe thead th {\n",
       "        text-align: right;\n",
       "    }\n",
       "</style>\n",
       "<table border=\"1\" class=\"dataframe\">\n",
       "  <thead>\n",
       "    <tr style=\"text-align: right;\">\n",
       "      <th></th>\n",
       "      <th>File ID</th>\n",
       "      <th>File Name</th>\n",
       "    </tr>\n",
       "    <tr>\n",
       "      <th>Case ID</th>\n",
       "      <th></th>\n",
       "      <th></th>\n",
       "    </tr>\n",
       "  </thead>\n",
       "  <tbody>\n",
       "    <tr>\n",
       "      <th>TARGET-30-PAPUWY</th>\n",
       "      <td>b19431df-0e34-4771-adda-6dbffcb60503</td>\n",
       "      <td>a46c4421-42d7-49b3-b109-f8bbe1e2bc83.htseq_cou...</td>\n",
       "    </tr>\n",
       "    <tr>\n",
       "      <th>TARGET-30-PATINJ</th>\n",
       "      <td>b308a9bf-c4ab-4cd3-8eb3-8421ef417a17</td>\n",
       "      <td>49d2489c-6489-43d3-af15-8a9838c28439.htseq_cou...</td>\n",
       "    </tr>\n",
       "    <tr>\n",
       "      <th>TARGET-30-PASXHE</th>\n",
       "      <td>bff2c70f-296b-4472-8fa2-c24229ba407a</td>\n",
       "      <td>ab9d872b-8e15-4be1-8c9c-d32442aebe64.htseq_cou...</td>\n",
       "    </tr>\n",
       "    <tr>\n",
       "      <th>TARGET-30-PATAYJ</th>\n",
       "      <td>672df550-39ca-46e0-9e0e-cf747b4445f7</td>\n",
       "      <td>6706a39e-46ed-4079-8eb0-f3bb29e868af.htseq_cou...</td>\n",
       "    </tr>\n",
       "    <tr>\n",
       "      <th>TARGET-30-PANNMS</th>\n",
       "      <td>2755f8b5-5fc2-47b7-ac95-e53677bb6c16</td>\n",
       "      <td>9776c00a-b6f0-461f-9764-3d8aaccbccc6.htseq_cou...</td>\n",
       "    </tr>\n",
       "  </tbody>\n",
       "</table>\n",
       "</div>"
      ],
      "text/plain": [
       "                                               File ID  \\\n",
       "Case ID                                                  \n",
       "TARGET-30-PAPUWY  b19431df-0e34-4771-adda-6dbffcb60503   \n",
       "TARGET-30-PATINJ  b308a9bf-c4ab-4cd3-8eb3-8421ef417a17   \n",
       "TARGET-30-PASXHE  bff2c70f-296b-4472-8fa2-c24229ba407a   \n",
       "TARGET-30-PATAYJ  672df550-39ca-46e0-9e0e-cf747b4445f7   \n",
       "TARGET-30-PANNMS  2755f8b5-5fc2-47b7-ac95-e53677bb6c16   \n",
       "\n",
       "                                                          File Name  \n",
       "Case ID                                                              \n",
       "TARGET-30-PAPUWY  a46c4421-42d7-49b3-b109-f8bbe1e2bc83.htseq_cou...  \n",
       "TARGET-30-PATINJ  49d2489c-6489-43d3-af15-8a9838c28439.htseq_cou...  \n",
       "TARGET-30-PASXHE  ab9d872b-8e15-4be1-8c9c-d32442aebe64.htseq_cou...  \n",
       "TARGET-30-PATAYJ  6706a39e-46ed-4079-8eb0-f3bb29e868af.htseq_cou...  \n",
       "TARGET-30-PANNMS  9776c00a-b6f0-461f-9764-3d8aaccbccc6.htseq_cou...  "
      ]
     },
     "execution_count": 17,
     "metadata": {},
     "output_type": "execute_result"
    }
   ],
   "source": [
    "rna_sample_sheet = rna_sample_sheet_ori.copy().set_index('Case ID')\n",
    "rna_sample_sheet.head()"
   ]
  },
  {
   "cell_type": "code",
   "execution_count": 18,
   "id": "indoor-conservation",
   "metadata": {},
   "outputs": [
    {
     "name": "stdout",
     "output_type": "stream",
     "text": [
      "(235, 3) (161, 2)\n"
     ]
    }
   ],
   "source": [
    "print(dna_sample_sheet.shape, rna_sample_sheet.shape)"
   ]
  },
  {
   "cell_type": "code",
   "execution_count": 19,
   "id": "informational-retention",
   "metadata": {},
   "outputs": [
    {
     "data": {
      "text/plain": [
       "(157, 5)"
      ]
     },
     "execution_count": 19,
     "metadata": {},
     "output_type": "execute_result"
    }
   ],
   "source": [
    "sample_sheet = dna_sample_sheet.merge(rna_sample_sheet, left_index=True, right_index=True)\n",
    "sample_sheet.shape"
   ]
  },
  {
   "cell_type": "code",
   "execution_count": 20,
   "id": "dedicated-sixth",
   "metadata": {},
   "outputs": [
    {
     "data": {
      "text/plain": [
       "(157, 5)"
      ]
     },
     "execution_count": 20,
     "metadata": {},
     "output_type": "execute_result"
    }
   ],
   "source": [
    "sample_sheet.drop_duplicates(inplace=True)\n",
    "sample_sheet.shape"
   ]
  },
  {
   "cell_type": "code",
   "execution_count": 21,
   "id": "juvenile-ranch",
   "metadata": {},
   "outputs": [
    {
     "data": {
      "text/html": [
       "<div>\n",
       "<style scoped>\n",
       "    .dataframe tbody tr th:only-of-type {\n",
       "        vertical-align: middle;\n",
       "    }\n",
       "\n",
       "    .dataframe tbody tr th {\n",
       "        vertical-align: top;\n",
       "    }\n",
       "\n",
       "    .dataframe thead th {\n",
       "        text-align: right;\n",
       "    }\n",
       "</style>\n",
       "<table border=\"1\" class=\"dataframe\">\n",
       "  <thead>\n",
       "    <tr style=\"text-align: right;\">\n",
       "      <th></th>\n",
       "      <th>Derived Array Data File</th>\n",
       "      <th>Sample Name</th>\n",
       "      <th>0</th>\n",
       "      <th>File ID</th>\n",
       "      <th>File Name</th>\n",
       "    </tr>\n",
       "  </thead>\n",
       "  <tbody>\n",
       "    <tr>\n",
       "      <th>TARGET-30-PAIFXV</th>\n",
       "      <td>usc.edu_NBL.HumanMethylation450.Level-3.TARGET...</td>\n",
       "      <td>TARGET-30-PAIFXV-01A</td>\n",
       "      <td>9ee0d56826ecff75ec8cc61d059376b10c1cd1f621b4dc...</td>\n",
       "      <td>5fe187f0-9749-48ca-96dc-7e4e97bab987</td>\n",
       "      <td>d5b38dfa-5b4b-4f52-b938-f3339b53f295.htseq_cou...</td>\n",
       "    </tr>\n",
       "    <tr>\n",
       "      <th>TARGET-30-PAIPGU</th>\n",
       "      <td>usc.edu_NBL.HumanMethylation450.Level-3.TARGET...</td>\n",
       "      <td>TARGET-30-PAIPGU-01A</td>\n",
       "      <td>c5c373fab7771f40d02353a6a4554f6b89da73fd008f78...</td>\n",
       "      <td>93da93a3-1ac3-4c40-8e18-b2930ccdea7d</td>\n",
       "      <td>8e5546e8-6043-4d8c-a926-9da125530883.htseq_cou...</td>\n",
       "    </tr>\n",
       "    <tr>\n",
       "      <th>TARGET-30-PAISNS</th>\n",
       "      <td>usc.edu_NBL.HumanMethylation450.Level-3.TARGET...</td>\n",
       "      <td>TARGET-30-PAISNS-01A</td>\n",
       "      <td>51322783d83b94ae636ccee6177699cb1946abf0e33838...</td>\n",
       "      <td>5fd90c0a-7ac4-49c5-b5f7-6772cb5bff10</td>\n",
       "      <td>c5af09bc-a060-4c6c-8076-f7d0b43f4822.htseq_cou...</td>\n",
       "    </tr>\n",
       "    <tr>\n",
       "      <th>TARGET-30-PAITCI</th>\n",
       "      <td>usc.edu_NBL.HumanMethylation450.Level-3.TARGET...</td>\n",
       "      <td>TARGET-30-PAITCI-01A</td>\n",
       "      <td>688f5addbb317959dfa72009ec800861742fd562301e25...</td>\n",
       "      <td>1449832f-64f6-4835-9880-4a8101dccb0b</td>\n",
       "      <td>d5912ef5-1d89-4809-951f-20c04bb25cf2.htseq_cou...</td>\n",
       "    </tr>\n",
       "    <tr>\n",
       "      <th>TARGET-30-PAIVHE</th>\n",
       "      <td>usc.edu_NBL.HumanMethylation450.Level-3.TARGET...</td>\n",
       "      <td>TARGET-30-PAIVHE-01A</td>\n",
       "      <td>a5ffa29c7463933b1d0ed2b7e204b37a5de37d0ff7a88b...</td>\n",
       "      <td>383a2d80-fb27-401e-ac65-70297065fc85</td>\n",
       "      <td>510dc7b2-f9b4-4ee3-8356-5f83afd67fbe.htseq_cou...</td>\n",
       "    </tr>\n",
       "  </tbody>\n",
       "</table>\n",
       "</div>"
      ],
      "text/plain": [
       "                                            Derived Array Data File  \\\n",
       "TARGET-30-PAIFXV  usc.edu_NBL.HumanMethylation450.Level-3.TARGET...   \n",
       "TARGET-30-PAIPGU  usc.edu_NBL.HumanMethylation450.Level-3.TARGET...   \n",
       "TARGET-30-PAISNS  usc.edu_NBL.HumanMethylation450.Level-3.TARGET...   \n",
       "TARGET-30-PAITCI  usc.edu_NBL.HumanMethylation450.Level-3.TARGET...   \n",
       "TARGET-30-PAIVHE  usc.edu_NBL.HumanMethylation450.Level-3.TARGET...   \n",
       "\n",
       "                           Sample Name  \\\n",
       "TARGET-30-PAIFXV  TARGET-30-PAIFXV-01A   \n",
       "TARGET-30-PAIPGU  TARGET-30-PAIPGU-01A   \n",
       "TARGET-30-PAISNS  TARGET-30-PAISNS-01A   \n",
       "TARGET-30-PAITCI  TARGET-30-PAITCI-01A   \n",
       "TARGET-30-PAIVHE  TARGET-30-PAIVHE-01A   \n",
       "\n",
       "                                                                  0  \\\n",
       "TARGET-30-PAIFXV  9ee0d56826ecff75ec8cc61d059376b10c1cd1f621b4dc...   \n",
       "TARGET-30-PAIPGU  c5c373fab7771f40d02353a6a4554f6b89da73fd008f78...   \n",
       "TARGET-30-PAISNS  51322783d83b94ae636ccee6177699cb1946abf0e33838...   \n",
       "TARGET-30-PAITCI  688f5addbb317959dfa72009ec800861742fd562301e25...   \n",
       "TARGET-30-PAIVHE  a5ffa29c7463933b1d0ed2b7e204b37a5de37d0ff7a88b...   \n",
       "\n",
       "                                               File ID  \\\n",
       "TARGET-30-PAIFXV  5fe187f0-9749-48ca-96dc-7e4e97bab987   \n",
       "TARGET-30-PAIPGU  93da93a3-1ac3-4c40-8e18-b2930ccdea7d   \n",
       "TARGET-30-PAISNS  5fd90c0a-7ac4-49c5-b5f7-6772cb5bff10   \n",
       "TARGET-30-PAITCI  1449832f-64f6-4835-9880-4a8101dccb0b   \n",
       "TARGET-30-PAIVHE  383a2d80-fb27-401e-ac65-70297065fc85   \n",
       "\n",
       "                                                          File Name  \n",
       "TARGET-30-PAIFXV  d5b38dfa-5b4b-4f52-b938-f3339b53f295.htseq_cou...  \n",
       "TARGET-30-PAIPGU  8e5546e8-6043-4d8c-a926-9da125530883.htseq_cou...  \n",
       "TARGET-30-PAISNS  c5af09bc-a060-4c6c-8076-f7d0b43f4822.htseq_cou...  \n",
       "TARGET-30-PAITCI  d5912ef5-1d89-4809-951f-20c04bb25cf2.htseq_cou...  \n",
       "TARGET-30-PAIVHE  510dc7b2-f9b4-4ee3-8356-5f83afd67fbe.htseq_cou...  "
      ]
     },
     "execution_count": 21,
     "metadata": {},
     "output_type": "execute_result"
    }
   ],
   "source": [
    "sample_sheet.head()"
   ]
  },
  {
   "cell_type": "code",
   "execution_count": 22,
   "id": "atmospheric-regression",
   "metadata": {},
   "outputs": [
    {
     "data": {
      "text/html": [
       "<div>\n",
       "<style scoped>\n",
       "    .dataframe tbody tr th:only-of-type {\n",
       "        vertical-align: middle;\n",
       "    }\n",
       "\n",
       "    .dataframe tbody tr th {\n",
       "        vertical-align: top;\n",
       "    }\n",
       "\n",
       "    .dataframe thead th {\n",
       "        text-align: right;\n",
       "    }\n",
       "</style>\n",
       "<table border=\"1\" class=\"dataframe\">\n",
       "  <thead>\n",
       "    <tr style=\"text-align: right;\">\n",
       "      <th></th>\n",
       "      <th>Derived Array Data File</th>\n",
       "      <th>Sample Name</th>\n",
       "      <th>File ID</th>\n",
       "      <th>File Name</th>\n",
       "    </tr>\n",
       "  </thead>\n",
       "  <tbody>\n",
       "    <tr>\n",
       "      <th>TARGET-30-PAIFXV</th>\n",
       "      <td>usc.edu_NBL.HumanMethylation450.Level-3.TARGET...</td>\n",
       "      <td>TARGET-30-PAIFXV-01A</td>\n",
       "      <td>5fe187f0-9749-48ca-96dc-7e4e97bab987</td>\n",
       "      <td>d5b38dfa-5b4b-4f52-b938-f3339b53f295.htseq_cou...</td>\n",
       "    </tr>\n",
       "    <tr>\n",
       "      <th>TARGET-30-PAIPGU</th>\n",
       "      <td>usc.edu_NBL.HumanMethylation450.Level-3.TARGET...</td>\n",
       "      <td>TARGET-30-PAIPGU-01A</td>\n",
       "      <td>93da93a3-1ac3-4c40-8e18-b2930ccdea7d</td>\n",
       "      <td>8e5546e8-6043-4d8c-a926-9da125530883.htseq_cou...</td>\n",
       "    </tr>\n",
       "    <tr>\n",
       "      <th>TARGET-30-PAISNS</th>\n",
       "      <td>usc.edu_NBL.HumanMethylation450.Level-3.TARGET...</td>\n",
       "      <td>TARGET-30-PAISNS-01A</td>\n",
       "      <td>5fd90c0a-7ac4-49c5-b5f7-6772cb5bff10</td>\n",
       "      <td>c5af09bc-a060-4c6c-8076-f7d0b43f4822.htseq_cou...</td>\n",
       "    </tr>\n",
       "    <tr>\n",
       "      <th>TARGET-30-PAITCI</th>\n",
       "      <td>usc.edu_NBL.HumanMethylation450.Level-3.TARGET...</td>\n",
       "      <td>TARGET-30-PAITCI-01A</td>\n",
       "      <td>1449832f-64f6-4835-9880-4a8101dccb0b</td>\n",
       "      <td>d5912ef5-1d89-4809-951f-20c04bb25cf2.htseq_cou...</td>\n",
       "    </tr>\n",
       "    <tr>\n",
       "      <th>TARGET-30-PAIVHE</th>\n",
       "      <td>usc.edu_NBL.HumanMethylation450.Level-3.TARGET...</td>\n",
       "      <td>TARGET-30-PAIVHE-01A</td>\n",
       "      <td>383a2d80-fb27-401e-ac65-70297065fc85</td>\n",
       "      <td>510dc7b2-f9b4-4ee3-8356-5f83afd67fbe.htseq_cou...</td>\n",
       "    </tr>\n",
       "  </tbody>\n",
       "</table>\n",
       "</div>"
      ],
      "text/plain": [
       "                                            Derived Array Data File  \\\n",
       "TARGET-30-PAIFXV  usc.edu_NBL.HumanMethylation450.Level-3.TARGET...   \n",
       "TARGET-30-PAIPGU  usc.edu_NBL.HumanMethylation450.Level-3.TARGET...   \n",
       "TARGET-30-PAISNS  usc.edu_NBL.HumanMethylation450.Level-3.TARGET...   \n",
       "TARGET-30-PAITCI  usc.edu_NBL.HumanMethylation450.Level-3.TARGET...   \n",
       "TARGET-30-PAIVHE  usc.edu_NBL.HumanMethylation450.Level-3.TARGET...   \n",
       "\n",
       "                           Sample Name                               File ID  \\\n",
       "TARGET-30-PAIFXV  TARGET-30-PAIFXV-01A  5fe187f0-9749-48ca-96dc-7e4e97bab987   \n",
       "TARGET-30-PAIPGU  TARGET-30-PAIPGU-01A  93da93a3-1ac3-4c40-8e18-b2930ccdea7d   \n",
       "TARGET-30-PAISNS  TARGET-30-PAISNS-01A  5fd90c0a-7ac4-49c5-b5f7-6772cb5bff10   \n",
       "TARGET-30-PAITCI  TARGET-30-PAITCI-01A  1449832f-64f6-4835-9880-4a8101dccb0b   \n",
       "TARGET-30-PAIVHE  TARGET-30-PAIVHE-01A  383a2d80-fb27-401e-ac65-70297065fc85   \n",
       "\n",
       "                                                          File Name  \n",
       "TARGET-30-PAIFXV  d5b38dfa-5b4b-4f52-b938-f3339b53f295.htseq_cou...  \n",
       "TARGET-30-PAIPGU  8e5546e8-6043-4d8c-a926-9da125530883.htseq_cou...  \n",
       "TARGET-30-PAISNS  c5af09bc-a060-4c6c-8076-f7d0b43f4822.htseq_cou...  \n",
       "TARGET-30-PAITCI  d5912ef5-1d89-4809-951f-20c04bb25cf2.htseq_cou...  \n",
       "TARGET-30-PAIVHE  510dc7b2-f9b4-4ee3-8356-5f83afd67fbe.htseq_cou...  "
      ]
     },
     "execution_count": 22,
     "metadata": {},
     "output_type": "execute_result"
    }
   ],
   "source": [
    "sample_sheet.drop([0], axis=1, inplace=True)\n",
    "sample_sheet.head()"
   ]
  },
  {
   "cell_type": "code",
   "execution_count": 23,
   "id": "asian-mileage",
   "metadata": {},
   "outputs": [
    {
     "data": {
      "text/html": [
       "<div>\n",
       "<style scoped>\n",
       "    .dataframe tbody tr th:only-of-type {\n",
       "        vertical-align: middle;\n",
       "    }\n",
       "\n",
       "    .dataframe tbody tr th {\n",
       "        vertical-align: top;\n",
       "    }\n",
       "\n",
       "    .dataframe thead th {\n",
       "        text-align: right;\n",
       "    }\n",
       "</style>\n",
       "<table border=\"1\" class=\"dataframe\">\n",
       "  <thead>\n",
       "    <tr style=\"text-align: right;\">\n",
       "      <th></th>\n",
       "      <th>Derived Array Data File</th>\n",
       "      <th>Sample Name</th>\n",
       "      <th>File ID</th>\n",
       "      <th>File Name</th>\n",
       "    </tr>\n",
       "    <tr>\n",
       "      <th>Case ID</th>\n",
       "      <th></th>\n",
       "      <th></th>\n",
       "      <th></th>\n",
       "      <th></th>\n",
       "    </tr>\n",
       "  </thead>\n",
       "  <tbody>\n",
       "    <tr>\n",
       "      <th>TARGET-30-PAIFXV</th>\n",
       "      <td>usc.edu_NBL.HumanMethylation450.Level-3.TARGET...</td>\n",
       "      <td>TARGET-30-PAIFXV-01A</td>\n",
       "      <td>5fe187f0-9749-48ca-96dc-7e4e97bab987</td>\n",
       "      <td>d5b38dfa-5b4b-4f52-b938-f3339b53f295.htseq_cou...</td>\n",
       "    </tr>\n",
       "    <tr>\n",
       "      <th>TARGET-30-PAIPGU</th>\n",
       "      <td>usc.edu_NBL.HumanMethylation450.Level-3.TARGET...</td>\n",
       "      <td>TARGET-30-PAIPGU-01A</td>\n",
       "      <td>93da93a3-1ac3-4c40-8e18-b2930ccdea7d</td>\n",
       "      <td>8e5546e8-6043-4d8c-a926-9da125530883.htseq_cou...</td>\n",
       "    </tr>\n",
       "    <tr>\n",
       "      <th>TARGET-30-PAISNS</th>\n",
       "      <td>usc.edu_NBL.HumanMethylation450.Level-3.TARGET...</td>\n",
       "      <td>TARGET-30-PAISNS-01A</td>\n",
       "      <td>5fd90c0a-7ac4-49c5-b5f7-6772cb5bff10</td>\n",
       "      <td>c5af09bc-a060-4c6c-8076-f7d0b43f4822.htseq_cou...</td>\n",
       "    </tr>\n",
       "    <tr>\n",
       "      <th>TARGET-30-PAITCI</th>\n",
       "      <td>usc.edu_NBL.HumanMethylation450.Level-3.TARGET...</td>\n",
       "      <td>TARGET-30-PAITCI-01A</td>\n",
       "      <td>1449832f-64f6-4835-9880-4a8101dccb0b</td>\n",
       "      <td>d5912ef5-1d89-4809-951f-20c04bb25cf2.htseq_cou...</td>\n",
       "    </tr>\n",
       "    <tr>\n",
       "      <th>TARGET-30-PAIVHE</th>\n",
       "      <td>usc.edu_NBL.HumanMethylation450.Level-3.TARGET...</td>\n",
       "      <td>TARGET-30-PAIVHE-01A</td>\n",
       "      <td>383a2d80-fb27-401e-ac65-70297065fc85</td>\n",
       "      <td>510dc7b2-f9b4-4ee3-8356-5f83afd67fbe.htseq_cou...</td>\n",
       "    </tr>\n",
       "  </tbody>\n",
       "</table>\n",
       "</div>"
      ],
      "text/plain": [
       "                                            Derived Array Data File  \\\n",
       "Case ID                                                               \n",
       "TARGET-30-PAIFXV  usc.edu_NBL.HumanMethylation450.Level-3.TARGET...   \n",
       "TARGET-30-PAIPGU  usc.edu_NBL.HumanMethylation450.Level-3.TARGET...   \n",
       "TARGET-30-PAISNS  usc.edu_NBL.HumanMethylation450.Level-3.TARGET...   \n",
       "TARGET-30-PAITCI  usc.edu_NBL.HumanMethylation450.Level-3.TARGET...   \n",
       "TARGET-30-PAIVHE  usc.edu_NBL.HumanMethylation450.Level-3.TARGET...   \n",
       "\n",
       "                           Sample Name                               File ID  \\\n",
       "Case ID                                                                        \n",
       "TARGET-30-PAIFXV  TARGET-30-PAIFXV-01A  5fe187f0-9749-48ca-96dc-7e4e97bab987   \n",
       "TARGET-30-PAIPGU  TARGET-30-PAIPGU-01A  93da93a3-1ac3-4c40-8e18-b2930ccdea7d   \n",
       "TARGET-30-PAISNS  TARGET-30-PAISNS-01A  5fd90c0a-7ac4-49c5-b5f7-6772cb5bff10   \n",
       "TARGET-30-PAITCI  TARGET-30-PAITCI-01A  1449832f-64f6-4835-9880-4a8101dccb0b   \n",
       "TARGET-30-PAIVHE  TARGET-30-PAIVHE-01A  383a2d80-fb27-401e-ac65-70297065fc85   \n",
       "\n",
       "                                                          File Name  \n",
       "Case ID                                                              \n",
       "TARGET-30-PAIFXV  d5b38dfa-5b4b-4f52-b938-f3339b53f295.htseq_cou...  \n",
       "TARGET-30-PAIPGU  8e5546e8-6043-4d8c-a926-9da125530883.htseq_cou...  \n",
       "TARGET-30-PAISNS  c5af09bc-a060-4c6c-8076-f7d0b43f4822.htseq_cou...  \n",
       "TARGET-30-PAITCI  d5912ef5-1d89-4809-951f-20c04bb25cf2.htseq_cou...  \n",
       "TARGET-30-PAIVHE  510dc7b2-f9b4-4ee3-8356-5f83afd67fbe.htseq_cou...  "
      ]
     },
     "execution_count": 23,
     "metadata": {},
     "output_type": "execute_result"
    }
   ],
   "source": [
    "sample_sheet.index.rename('Case ID', inplace=True)\n",
    "sample_sheet.head()"
   ]
  },
  {
   "cell_type": "code",
   "execution_count": 24,
   "id": "separated-validation",
   "metadata": {},
   "outputs": [],
   "source": [
    "sample_sheet.to_csv(dna_path+'sample_sheet.csv', columns=['Derived Array Data File', 'Sample Name'])"
   ]
  },
  {
   "cell_type": "code",
   "execution_count": 25,
   "id": "timely-income",
   "metadata": {},
   "outputs": [],
   "source": [
    "sample_sheet.to_csv(rna_path+'sample_sheet.csv', columns=['File ID', 'File Name'])"
   ]
  },
  {
   "cell_type": "code",
   "execution_count": null,
   "id": "important-closer",
   "metadata": {},
   "outputs": [],
   "source": []
  }
 ],
 "metadata": {
  "kernelspec": {
   "display_name": "Python 3",
   "language": "python",
   "name": "python3"
  },
  "language_info": {
   "codemirror_mode": {
    "name": "ipython",
    "version": 3
   },
   "file_extension": ".py",
   "mimetype": "text/x-python",
   "name": "python",
   "nbconvert_exporter": "python",
   "pygments_lexer": "ipython3",
   "version": "3.6.13"
  }
 },
 "nbformat": 4,
 "nbformat_minor": 5
}
