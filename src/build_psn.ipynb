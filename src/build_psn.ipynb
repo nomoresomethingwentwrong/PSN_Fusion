{
 "cells": [
  {
   "cell_type": "code",
   "execution_count": 1,
   "id": "e88ec638",
   "metadata": {},
   "outputs": [],
   "source": [
    "import sys, os\n",
    "import matplotlib\n",
    "matplotlib.use('Agg')\n",
    "import numpy as np\n",
    "import pandas as pd\n",
    "import csv\n",
    "import random\n",
    "# import igraph\n",
    "# import graph_tool as gt\n",
    "import networkx as nx\n",
    "# import utils.network as sn\n",
    "# import matplotlib.pylab as plt\n",
    "from scipy import stats\n",
    "from sklearn.cluster import SpectralClustering\n",
    "from sklearn import preprocessing\n",
    "from sklearn import metrics\n",
    "from graph_tool.all import *\n",
    "import argparse"
   ]
  },
  {
   "cell_type": "code",
   "execution_count": 7,
   "id": "0c187518",
   "metadata": {},
   "outputs": [],
   "source": [
    "# sys.path.append('utils/')\n",
    "# from preprocess import *\n",
    "import os\n",
    "import numpy as np\n",
    "from numpy.core.numeric import identity\n",
    "import pandas as pd\n",
    "from scipy import stats\n",
    "from statsmodels.stats.multitest import fdrcorrection\n",
    "# internal lib\n",
    "import network as sn"
   ]
  },
  {
   "cell_type": "code",
   "execution_count": 25,
   "id": "89efcbe8",
   "metadata": {},
   "outputs": [],
   "source": [
    "# inpath = '../GSE49710_original/'\n",
    "# dataset = 'SEQC'\n",
    "\n",
    "# inpath = '../TARGET_RNAseq/HTSeq_counts/'\n",
    "inpath = '../TARGET_Methylation/'\n",
    "dataset = 'TARGET'"
   ]
  },
  {
   "cell_type": "code",
   "execution_count": 26,
   "id": "d6ded257",
   "metadata": {},
   "outputs": [
    {
     "name": "stdout",
     "output_type": "stream",
     "text": [
      "(396065, 202)\n",
      "(202,)\n"
     ]
    }
   ],
   "source": [
    "if dataset == 'SEQC':\n",
    "    array_dataset = pd.read_csv(inpath+\"ArrayData_clean.tsv\", sep='\\t', index_col = 0)\n",
    "    clinical_dataset = pd.read_csv(inpath+\"clinical_data.tsv\", sep='\\t', index_col = 0)\n",
    "    X = array_dataset.values\n",
    "    Y = clinical_dataset.iloc[:, 1].values\n",
    "elif dataset == 'TARGET':\n",
    "    array_dataset = pd.read_csv(inpath + 'DataMat.csv', index_col = 0)\n",
    "    clinical_dataset = pd.read_csv(inpath + 'ClinicalData.csv', index_col = 0)\n",
    "    # print(clinical_dataset.head())\n",
    "    X = array_dataset.values\n",
    "    Y = clinical_dataset.values.reshape((-1,))\n",
    "    # print(Y)\n",
    "else: \n",
    "    print('unrecognized dataset type!')\n",
    "    exit()\n",
    "\n",
    "print(X.shape)\n",
    "print(Y.shape)"
   ]
  },
  {
   "cell_type": "code",
   "execution_count": 27,
   "id": "d6307606",
   "metadata": {
    "scrolled": true
   },
   "outputs": [
    {
     "name": "stdout",
     "output_type": "stream",
     "text": [
      "outcome_dict:\n",
      "{'F62': 1, 'F157': 1, 'F85': 1, 'F175': 0, 'F89': 1, 'F153': 0, 'F38': 1, 'F5': 1, 'F4': 1, 'F52': 0, 'F177': 0, 'F194': 1, 'F31': 0, 'F122': 0, 'F82': 0, 'F68': 1, 'F35': 1, 'F173': 0, 'F98': 0, 'F7': 1, 'F97': 0, 'F14': 1, 'F133': 1, 'F172': 0, 'F141': 1, 'F56': 1, 'F28': 0, 'F148': 1, 'F70': 1, 'F1': 1, 'F128': 1, 'F107': 0, 'F134': 0, 'F188': 1, 'F75': 1, 'F168': 1, 'F170': 1, 'F2': 1, 'F193': 1, 'F145': 1, 'F30': 0, 'F25': 0, 'F17': 1, 'F95': 0, 'F87': 1, 'F86': 1, 'F19': 0, 'F114': 0, 'F88': 1, 'F21': 1, 'F131': 0, 'F143': 0, 'F196': 0, 'F26': 0, 'F44': 1, 'F46': 0, 'F49': 1, 'F69': 0, 'F132': 1, 'F120': 1, 'F158': 0, 'F8': 0, 'F71': 1, 'F18': 0, 'F83': 0, 'F108': 0, 'F23': 0, 'F180': 1, 'F119': 1, 'F179': 0, 'F151': 1, 'F78': 1, 'F100': 1, 'F104': 0, 'F129': 1, 'F101': 0, 'F77': 1, 'F147': 0, 'F57': 1, 'F55': 0, 'F137': 1, 'F27': 1, 'F50': 0, 'F3': 1, 'F73': 1, 'F109': 0, 'F152': 1, 'F90': 0, 'F43': 0, 'F185': 0, 'F34': 0, 'F99': 1, 'F164': 0, 'F32': 1, 'F96': 1, 'F190': 1, 'F181': 0, 'F195': 0, 'F33': 0, 'F160': 0, 'F192': 0, 'F127': 0, 'F36': 0, 'F118': 0, 'F155': 0, 'F103': 1, 'F37': 1, 'F11': 0, 'F20': 1, 'F67': 1, 'F63': 0, 'F182': 1, 'F6': 0, 'F102': 0, 'F66': 0, 'F167': 0, 'F125': 1, 'F79': 1, 'F166': 0, 'F123': 1, 'F58': 1, 'F140': 1, 'F115': 1, 'F149': 1, 'F51': 0, 'F41': 1, 'F116': 1, 'F187': 1, 'F80': 0, 'F198': 1, 'F150': 0, 'F136': 1, 'F12': 0, 'F161': 0, 'F154': 0, 'F191': 1, 'F59': 1, 'F61': 1, 'F174': 0, 'F197': 1, 'F91': 1, 'F113': 1, 'F81': 0, 'F29': 0, 'F178': 0, 'F112': 0, 'F106': 1, 'F144': 1, 'F105': 0, 'F162': 0, 'F60': 0, 'F126': 1, 'F124': 0, 'F200': 1, 'F199': 1, 'F176': 0, 'F189': 1, 'F15': 0, 'F24': 0, 'F54': 1, 'F22': 0, 'F40': 0, 'F135': 0, 'F202': 0, 'F13': 0, 'F10': 0, 'F146': 1, 'F130': 0, 'F156': 0, 'F72': 0, 'F169': 0, 'F93': 0, 'F84': 0, 'F159': 0, 'F117': 1, 'F47': 1, 'F111': 1, 'F74': 0, 'F163': 1, 'F201': 0, 'F39': 1, 'F139': 1, 'F184': 0, 'F110': 0, 'F9': 0, 'F165': 1, 'F138': 0, 'F76': 1, 'F45': 1, 'F142': 1, 'F48': 0, 'F171': 1, 'F65': 1, 'F186': 0, 'F16': 0, 'F64': 1, 'F183': 0, 'F53': 1, 'F121': 0, 'F92': 0, 'F94': 0, 'F42': 0}\n",
      "[1, 1, 1, 1, 1, 0, 1, 0, 0, 0, 0, 0, 0, 1, 0, 0, 1, 0, 0, 1, 1, 0, 0, 0, 0, 0, 1, 0, 0, 0, 0, 1, 0, 0, 1, 0, 1, 1, 1, 0, 1, 0, 0, 1, 1, 0, 1, 0, 1, 0, 0, 0, 1, 1, 0, 1, 1, 1, 1, 0, 1, 1, 0, 1, 1, 0, 1, 1, 0, 1, 1, 0, 1, 0, 1, 1, 1, 1, 1, 0, 0, 0, 0, 0, 1, 1, 1, 1, 1, 0, 1, 0, 0, 0, 0, 1, 0, 0, 1, 1, 0, 0, 1, 0, 0, 1, 0, 0, 0, 0, 1, 0, 1, 0, 1, 1, 1, 0, 1, 1, 0, 0, 1, 0, 1, 1, 0, 1, 1, 0, 0, 1, 1, 0, 0, 1, 1, 0, 1, 1, 1, 1, 0, 1, 1, 1, 0, 1, 1, 0, 1, 1, 0, 0, 0, 0, 1, 0, 0, 0, 0, 0, 1, 0, 1, 0, 0, 1, 0, 1, 1, 0, 0, 0, 0, 0, 0, 0, 0, 1, 0, 1, 0, 0, 0, 0, 1, 1, 1, 1, 1, 0, 1, 1, 0, 0, 1, 1, 1, 1, 0, 0]\n"
     ]
    }
   ],
   "source": [
    "\n",
    "outcome_dict = dict()\n",
    "row = 0\n",
    "\n",
    "for i in array_dataset.columns:  # columns are patient samples\n",
    "\trow += 1\n",
    "\toutcome_dict[i] = Y[row-1]\n",
    "\n",
    "print(\"outcome_dict:\")\n",
    "print(outcome_dict)\n",
    "\n",
    "l = list(Y)\n",
    "print(l)"
   ]
  },
  {
   "cell_type": "code",
   "execution_count": 40,
   "id": "cc5bb952",
   "metadata": {},
   "outputs": [],
   "source": [
    "def wilcoxon_test(x, label_list):\n",
    "    # data = arr[:, :-1].reshape(-1, arr.shape[0])\n",
    "    # label = arr[:, -1]\n",
    "    # print(data.shape)\n",
    "    # print(label.shape)\n",
    "\n",
    "    p_values = []\n",
    "    for i in range(len(x)):\n",
    "        p = stats.wilcoxon(x[i], label_list).pvalue\n",
    "        # rej_status, corrected_p = fdrcorrection(p, alpha=0.05)\n",
    "        p_values.append(p)\n",
    "        # p_values.append(corrected_p, i])\n",
    "    \n",
    "    ori_p = np.array(p_values)\n",
    "    ori_keep_num = (ori_p < 0.001).sum()\n",
    "    print('number of original p values < 0.001:', ori_keep_num)\n",
    "    print('p values: ', ori_p)\n",
    "    \n",
    "    rej_status, corrected_p = fdrcorrection(p_values, alpha=0.001)\n",
    "    # print(rej_status)\n",
    "    # rej_num = len(np.where(rej_status==False))\n",
    "    # print('number of rejected features:', rej_num)\n",
    "    rej_indices = np.where(corrected_p >= 0.001)\n",
    "    print('number of rejected features:', len(rej_indices))\n",
    "    \n",
    "#     keep_num = np.size(np.where(corrected_p < 0.1))\n",
    "    keep_num = (corrected_p < 0.001).sum()\n",
    "    print('number of preserved features:', keep_num)\n",
    "    print('corrected p values:', corrected_p)\n",
    "    return rej_status, rej_indices"
   ]
  },
  {
   "cell_type": "code",
   "execution_count": 41,
   "id": "af76e6b2",
   "metadata": {},
   "outputs": [
    {
     "name": "stdout",
     "output_type": "stream",
     "text": [
      "number of original p values < 0.0001: 342887\n",
      "p values:  [6.03954170e-01 8.59068689e-09 8.46213654e-11 ... 5.55684122e-02\n",
      " 2.09685306e-01 1.02231924e-06]\n",
      "number of rejected features: 1\n",
      "number of preserved features: 352246\n",
      "corrected p values: [6.13572981e-01 1.25408957e-08 5.25418686e-10 ... 5.91077273e-02\n",
      " 2.18074282e-01 1.25985914e-06]\n",
      "feature number after wilcoxon: 352246\n"
     ]
    }
   ],
   "source": [
    "_, unwanted_feature_indices = wilcoxon_test(X, l)\n",
    "proc_X = np.delete(X, unwanted_feature_indices, axis=0)\n",
    "print('feature number after wilcoxon:', len(proc_X))"
   ]
  },
  {
   "cell_type": "code",
   "execution_count": 42,
   "id": "fc509d38",
   "metadata": {},
   "outputs": [
    {
     "data": {
      "text/plain": [
       "(352246, 202)"
      ]
     },
     "execution_count": 42,
     "metadata": {},
     "output_type": "execute_result"
    }
   ],
   "source": [
    "proc_X.shape"
   ]
  },
  {
   "cell_type": "code",
   "execution_count": 43,
   "id": "27a38f0d",
   "metadata": {},
   "outputs": [
    {
     "name": "stdout",
     "output_type": "stream",
     "text": [
      "(array([     0,      4,     14, ..., 396061, 396062, 396063]),)\n"
     ]
    }
   ],
   "source": [
    "# sum(unwanted_feature_indices)\n",
    "print(unwanted_feature_indices)"
   ]
  },
  {
   "cell_type": "code",
   "execution_count": 47,
   "id": "31166b97",
   "metadata": {},
   "outputs": [
    {
     "data": {
      "text/plain": [
       "(202, 202)"
      ]
     },
     "execution_count": 47,
     "metadata": {},
     "output_type": "execute_result"
    }
   ],
   "source": [
    "graph = pd.read_csv(inpath+'new_adjmat.csv', index_col=0).values\n",
    "graph.shape"
   ]
  },
  {
   "cell_type": "code",
   "execution_count": 48,
   "id": "89ce6ccd",
   "metadata": {},
   "outputs": [
    {
     "data": {
      "text/plain": [
       "array([[0.        , 0.2860023 , 0.31260367, ..., 0.23621613, 0.27119335,\n",
       "        0.29248193],\n",
       "       [0.2860023 , 0.        , 0.37556514, ..., 0.23501403, 0.28076552,\n",
       "        0.2513116 ],\n",
       "       [0.31260367, 0.37556514, 0.        , ..., 0.28433148, 0.25507711,\n",
       "        0.25631968],\n",
       "       ...,\n",
       "       [0.23621613, 0.23501403, 0.28433148, ..., 0.        , 0.2522527 ,\n",
       "        0.29811253],\n",
       "       [0.27119335, 0.28076552, 0.25507711, ..., 0.2522527 , 0.        ,\n",
       "        0.45919272],\n",
       "       [0.29248193, 0.2513116 , 0.25631968, ..., 0.29811253, 0.45919272,\n",
       "        0.        ]])"
      ]
     },
     "execution_count": 48,
     "metadata": {},
     "output_type": "execute_result"
    }
   ],
   "source": [
    "graph"
   ]
  },
  {
   "cell_type": "code",
   "execution_count": null,
   "id": "c6185321",
   "metadata": {},
   "outputs": [],
   "source": []
  }
 ],
 "metadata": {
  "kernelspec": {
   "display_name": "python3.5",
   "language": "python",
   "name": "python3.5"
  },
  "language_info": {
   "codemirror_mode": {
    "name": "ipython",
    "version": 3
   },
   "file_extension": ".py",
   "mimetype": "text/x-python",
   "name": "python",
   "nbconvert_exporter": "python",
   "pygments_lexer": "ipython3",
   "version": "3.5.2"
  }
 },
 "nbformat": 4,
 "nbformat_minor": 5
}
